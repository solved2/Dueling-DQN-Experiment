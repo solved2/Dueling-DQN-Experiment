{
 "cells": [
  {
   "cell_type": "markdown",
   "metadata": {},
   "source": [
    "# Dueling DQN - Corridor Environment Experiment\n",
    "* 논문 보는 곳 : https://arxiv.org/abs/1511.06581\n",
    "* Dueling architecture의 policy evaluation 퍼포먼스를 실험한 결과인 <code>Figure 3</code>를 실습해봅시다.\n",
    "  \n",
    "  \n",
    "* 논문에서 진행한 실험 세팅과 같지 않는 점  \n",
    "    1. epsilon 값이 **0.01**입니다. 0.001로 설정하면 액션을 골고루 시행할 수 있는 기회가 적어 일부 Q(s, a)의 학습(update)이 이루어지지 않습니다.\n",
    "    2. <code>Figure 3</code>의 y값이 **mean squared error**입니다. 저자들이 정확히 어떻게 실험을 했는지 알 수 없지만, Q(s, a)를 아무리 학습시켜도 squared error가 <code>10^0</code>에 수렴할만큼 정확한 policy evaluaion을 하기 어려웠습니다.\n",
    "    3. 종료 상태를 제외한 상태에선 **-1**의 보상을 받습니다. 즉, 최단경로로 이동하는 것을 목표로 합니다."
   ]
  },
  {
   "cell_type": "markdown",
   "metadata": {},
   "source": [
    "## 1. Import Library"
   ]
  },
  {
   "cell_type": "code",
   "execution_count": 1,
   "metadata": {},
   "outputs": [],
   "source": [
    "import os\n",
    "import numpy as np\n",
    "import random\n",
    "import torch\n",
    "import torch.nn as nn\n",
    "import torch.nn.functional as F\n",
    "import torch.optim as optim\n",
    "from matplotlib import pyplot as plt\n",
    "from IPython.display import set_matplotlib_formats\n",
    "\n",
    "os.environ[\"KMP_DUPLICATE_LIB_OK\"]=\"TRUE\" # 라이브러리들끼리 충돌을 일으켜서 matplotlib plot할 때 커널이 죽는 것을 방지"
   ]
  },
  {
   "cell_type": "markdown",
   "metadata": {},
   "source": [
    "## 2. 하이퍼파라미터 세팅"
   ]
  },
  {
   "cell_type": "code",
   "execution_count": 2,
   "metadata": {},
   "outputs": [],
   "source": [
    "learning_rate = 0.0001\n",
    "epsilon = 0.01\n",
    "action_num = 10"
   ]
  },
  {
   "cell_type": "code",
   "execution_count": 3,
   "metadata": {},
   "outputs": [],
   "source": [
    "exact_q_table = None"
   ]
  },
  {
   "cell_type": "markdown",
   "metadata": {},
   "source": [
    "## 3. MDP Planning by Dynamic Programming\n",
    "* Policy에 대한 exact Q(s, a), 즉 Q*(s, a)를 구하기 위해 다이나믹 프로그래밍으로 MDP를 풉니다."
   ]
  },
  {
   "cell_type": "code",
   "execution_count": 4,
   "metadata": {},
   "outputs": [],
   "source": [
    "def is_state(x, y):\n",
    "    if y == 0 and (9 <= x <= 18):\n",
    "        return True\n",
    "    elif x == 9 and (0 <= y <= 49):\n",
    "        return True\n",
    "    elif y == 49 and (0 <= x <= 9):\n",
    "        return True\n",
    "    else:\n",
    "        return False\n",
    "    \n",
    "def is_terminal(x, y):\n",
    "    if x == 18 and y == 0:\n",
    "        return True\n",
    "    elif x == 0 and y == 49:\n",
    "        return True\n",
    "    else:\n",
    "        return False"
   ]
  },
  {
   "cell_type": "code",
   "execution_count": 5,
   "metadata": {},
   "outputs": [],
   "source": [
    "def solve_MDP():\n",
    "    # 0 : 오른쪽, 1 : 왼쪽, 2 : 아래, 3 : 위, 4~ : no-op\n",
    "    dx = [0, 0, 1, -1]\n",
    "    dy = [1, -1, 0, 0]    \n",
    "    dx += [0]*(action_num-4)\n",
    "    dy += [0]*(action_num-4)\n",
    "\n",
    "    for repeat in range(0, 5000):\n",
    "        for x in range(0, 19):\n",
    "            for y in range(0, 50):\n",
    "                if is_terminal(x, y) == True:\n",
    "                    continue\n",
    "                if is_state(x, y) == True:\n",
    "                    for a in range(0, action_num):\n",
    "                        reward = -1\n",
    "                        if x == 17 and y == 0 and a == 2:\n",
    "                            reward = 10\n",
    "                        elif x == 1 and y == 49 and a == 3:\n",
    "                            reward = 100\n",
    "\n",
    "                        next_state_value = 0\n",
    "                            \n",
    "                        next_x = x + dx[a]\n",
    "                        next_y = y + dy[a]\n",
    "\n",
    "                        # 갈 수 없다면 제자리로 돌아오게 된다.\n",
    "                        if is_state(next_x, next_y) == False:\n",
    "                            next_x, next_y = x, y\n",
    "\n",
    "                        greedy_action = np.argmax(exact_q_table[next_x, next_y, :])\n",
    "\n",
    "                        for a_ in range(0, action_num):\n",
    "                            probability = 1 - epsilon + (epsilon/action_num) if a_ == greedy_action else epsilon/action_num\n",
    "                            next_state_value += (probability*exact_q_table[next_x, next_y, a_])\n",
    "\n",
    "                        exact_q_table[x, y, a] = reward + next_state_value"
   ]
  },
  {
   "cell_type": "markdown",
   "metadata": {},
   "source": [
    "## 2. Policy Evaluation by Single/Dueling Architecture\n",
    "* epsilon-greedy 행동 정책에 대한 policy evaluaion을 수행합니다."
   ]
  },
  {
   "cell_type": "markdown",
   "metadata": {},
   "source": [
    "### 2.1 Corridor Environment : 논문과 동일합니다."
   ]
  },
  {
   "cell_type": "code",
   "execution_count": 6,
   "metadata": {},
   "outputs": [],
   "source": [
    "class Corridor():\n",
    "    def __init__(self):\n",
    "        self.x = 17\n",
    "        self.y = 0\n",
    "    \n",
    "    def step(self, a):\n",
    "        if a==0:\n",
    "            self.move_right()\n",
    "        elif a==1:\n",
    "            self.move_left()\n",
    "        elif a==2:\n",
    "            self.move_down()\n",
    "        elif a==3:\n",
    "            self.move_up()\n",
    "        else:\n",
    "            self.no_op()\n",
    "\n",
    "        reward = -1\n",
    "        if self.x == 18 and self.y == 0:\n",
    "            reward = 10\n",
    "        elif self.x == 0 and self.y == 49:\n",
    "            reward = 100\n",
    "            \n",
    "        done = self.is_done()\n",
    "        return self.x, self.y, reward, done\n",
    "\n",
    "    def move_right(self):\n",
    "        self.y += 1  \n",
    "        if is_state(self.x, self.y) == False:\n",
    "            self.y -= 1\n",
    "      \n",
    "    def move_left(self):\n",
    "        self.y -= 1\n",
    "        if is_state(self.x, self.y) == False:\n",
    "            self.y += 1\n",
    "      \n",
    "    def move_up(self):\n",
    "        self.x -= 1\n",
    "        if is_state(self.x, self.y) == False:\n",
    "            self.x += 1\n",
    "  \n",
    "    def move_down(self):\n",
    "        self.x += 1\n",
    "        if is_state(self.x, self.y) == False:\n",
    "            self.x -= 1\n",
    "            \n",
    "    def no_op(self):\n",
    "        pass\n",
    "\n",
    "    def is_done(self):\n",
    "        if self.x == 18 and self.y == 0:\n",
    "            return True\n",
    "        elif self.x == 0 and self.y == 49:\n",
    "            return True\n",
    "        else:\n",
    "            return False\n",
    "      \n",
    "    def reset(self):\n",
    "        self.x = 17\n",
    "        self.y = 0\n",
    "        return (self.x, self.y)"
   ]
  },
  {
   "cell_type": "markdown",
   "metadata": {},
   "source": [
    "### 2.2 Single Q-network Architecture"
   ]
  },
  {
   "cell_type": "code",
   "execution_count": 7,
   "metadata": {},
   "outputs": [],
   "source": [
    "class Single_Qnet(nn.Module):\n",
    "    def __init__(self):\n",
    "        super(Single_Qnet, self).__init__()\n",
    "        self.fc1 = nn.Linear(2, 50)\n",
    "        self.fc2 = nn.Linear(50, 50)\n",
    "        self.fc3 = nn.Linear(50, action_num)\n",
    "\n",
    "    def forward(self, x):\n",
    "        x = F.relu(self.fc1(x))\n",
    "        x = F.relu(self.fc2(x))\n",
    "        x = self.fc3(x)\n",
    "        return x\n",
    "      \n",
    "    def sample_action(self, x, y):\n",
    "        coin = random.random()\n",
    "        if coin < epsilon:\n",
    "            return random.randint(0,action_num-1)\n",
    "        else:\n",
    "            # 논문에 적혀있는 것과 마찬가지로, Optimal Q*(s, a)에서 argmax를 취합니다.\n",
    "            return np.argmax(exact_q_table[x, y, :])"
   ]
  },
  {
   "cell_type": "markdown",
   "metadata": {},
   "source": [
    "### 2.3 Dueling Q-network Architecture"
   ]
  },
  {
   "cell_type": "code",
   "execution_count": 8,
   "metadata": {},
   "outputs": [],
   "source": [
    "class Dueling_Qnet(nn.Module):\n",
    "    def __init__(self):\n",
    "        super(Dueling_Qnet, self).__init__()\n",
    "        self.fc1 = nn.Linear(2, 50)\n",
    "        self.value_fc2 = nn.Linear(50, 25)\n",
    "        self.value_fc3 = nn.Linear(25, 1)\n",
    "        self.advantage_fc2 = nn.Linear(50, 25)\n",
    "        self.advantage_fc3 = nn.Linear(25, action_num)\n",
    "\n",
    "    def forward(self, x):\n",
    "        x = F.relu(self.fc1(x))\n",
    "        \n",
    "        state_value = F.relu(self.value_fc2(x))\n",
    "        state_value = self.value_fc3(state_value)\n",
    "        \n",
    "        advantage = F.relu(self.advantage_fc2(x))\n",
    "        advantage = self.advantage_fc3(advantage)\n",
    "        \n",
    "        q = state_value.repeat(action_num) + (advantage - torch.mean(advantage))\n",
    "        return q\n",
    "      \n",
    "    def sample_action(self, x, y):\n",
    "        coin = random.random()\n",
    "        if coin < epsilon:\n",
    "            return random.randint(0,action_num-1)\n",
    "        else:\n",
    "            # 논문에 적혀있는 것과 마찬가지로, Optimal Q*(s, a)에서 argmax를 취합니다.\n",
    "            return np.argmax(exact_q_table[x, y, :])"
   ]
  },
  {
   "cell_type": "markdown",
   "metadata": {},
   "source": [
    "### 2.3 <code>Figure 3</code> Graphing"
   ]
  },
  {
   "cell_type": "code",
   "execution_count": 9,
   "metadata": {},
   "outputs": [],
   "source": [
    "def graph_Figure3(x_list, y_list, mode):\n",
    "    #set_matplotlib_formats('svg')\n",
    "    \n",
    "    plt.rcParams['figure.dpi'] = 120\n",
    "    plt.rcParams['savefig.dpi'] = 120\n",
    "\n",
    "    plt.xlabel('Episodes', fontsize=12)\n",
    "    plt.ylabel('MSE', fontsize=12)\n",
    "\n",
    "    plt.xscale('log')\n",
    "    plt.yscale('log')\n",
    "    \n",
    "    plt.plot(x_list, y_list, linewidth=1.5, label=mode)\n",
    "    plt.xticks([10**i for i in range(3, 5)])\n",
    "    plt.yticks([10**i for i in range(0, 4)])\n",
    "    plt.title(f\"{action_num} Action\", fontsize=18)\n",
    "    plt.legend()\n",
    "    \n",
    "    if mode == \"Duel\":\n",
    "        plt.savefig(f\"figure {action_num}.png\", bbox_inches='tight')\n",
    "        plt.show();"
   ]
  },
  {
   "cell_type": "markdown",
   "metadata": {},
   "source": [
    "### 2.4 Main"
   ]
  },
  {
   "cell_type": "code",
   "execution_count": null,
   "metadata": {},
   "outputs": [
    {
     "data": {
      "image/png": "[encoded data removed]",
      "text/plain": [
       "<Figure size 720x480 with 1 Axes>"
      ]
     },
     "metadata": {
      "needs_background": "light"
     },
     "output_type": "display_data"
    }
   ],
   "source": [
    "def main(mode):\n",
    "    x_list = []\n",
    "    y_list = []\n",
    "    \n",
    "    env = Corridor()\n",
    "    q = Dueling_Qnet() if mode==\"Duel\" else Single_Qnet()\n",
    "    score = 0.0  \n",
    "    optimizer = optim.Adam(q.parameters(), lr=learning_rate)\n",
    "    \n",
    "    for n_epi in range(1, 300):\n",
    "        x, y = env.reset()\n",
    "        done = False\n",
    "        reward = 0\n",
    "        \n",
    "        while not done:\n",
    "            state = torch.tensor([x, y], dtype=torch.float)\n",
    "            a = q.sample_action(x, y)\n",
    "            nxt_x, nxt_y, r, done = env.step(a)\n",
    "            nxt_state = torch.tensor([nxt_x, nxt_y], dtype=torch.float)\n",
    "            done_mask = 0.0 if done else 1.0\n",
    "            \n",
    "            q_out = q(state)\n",
    "            q_a = q_out.gather(0, torch.tensor(a))\n",
    "            \n",
    "            q_prime_out = q(nxt_state)\n",
    "            next_greedy_action = np.argmax(exact_q_table[nxt_x, nxt_y, :])\n",
    "            \n",
    "            mean_q_prime = 0\n",
    "            for a_ in range(0, action_num):\n",
    "                probability = 1 - epsilon + (epsilon/action_num) if a_ == next_greedy_action else epsilon/action_num\n",
    "                mean_q_prime += (probability*q_prime_out.gather(0, torch.tensor(a_)))\n",
    "            \n",
    "            target = r + mean_q_prime*done_mask\n",
    "            \n",
    "            loss = F.mse_loss(q_a, target)\n",
    "            optimizer.zero_grad()\n",
    "            loss.backward()\n",
    "            optimizer.step()\n",
    "            \n",
    "            x, y = nxt_x, nxt_y\n",
    "\n",
    "            score += r\n",
    "            reward += r\n",
    "            if done:\n",
    "                break\n",
    "                \n",
    "        se = 0\n",
    "        if n_epi >= 100:\n",
    "            for row in range(0, 19):\n",
    "                for col in range(0, 50):\n",
    "                    if is_state(row, col) == True and is_terminal(row, col) == False:\n",
    "                        state = torch.tensor([row, col], dtype=torch.float)\n",
    "                        se += np.sum((q(state).cpu().detach().numpy() - exact_q_table[row, col, :])**2)\n",
    "            x_list += [n_epi]\n",
    "            y_list += [se/(68*action_num)] # mse\n",
    "        \n",
    "    graph_Figure3(x_list, y_list, mode)\n",
    "            \n",
    "\n",
    "            \n",
    "if __name__ == '__main__':\n",
    "    global action_num, exact_q_table\n",
    "    for size in [5, 10, 20]:\n",
    "        action_num = size\n",
    "        exact_q_table = np.zeros((19, 50, action_num))\n",
    "        solve_MDP()\n",
    "        main(\"Single\")\n",
    "        main(\"Duel\")"
   ]
  },
  {
   "cell_type": "code",
   "execution_count": null,
   "metadata": {},
   "outputs": [],
   "source": []
  }
 ],
 "metadata": {
  "kernelspec": {
   "display_name": "Python 3",
   "language": "python",
   "name": "python3"
  },
  "language_info": {
   "codemirror_mode": {
    "name": "ipython",
    "version": 3
   },
   "file_extension": ".py",
   "mimetype": "text/x-python",
   "name": "python",
   "nbconvert_exporter": "python",
   "pygments_lexer": "ipython3",
   "version": "3.7.4"
  }
 },
 "nbformat": 4,
 "nbformat_minor": 5
}
