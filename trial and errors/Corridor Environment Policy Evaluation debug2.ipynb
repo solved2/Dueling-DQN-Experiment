{
 "cells": [
  {
   "cell_type": "markdown",
   "id": "known-egyptian",
   "metadata": {},
   "source": [
    "## 1. Planing by Dynamic Programming"
   ]
  },
  {
   "cell_type": "code",
   "execution_count": 160,
   "id": "amazing-remainder",
   "metadata": {},
   "outputs": [],
   "source": [
    "import numpy as np\n",
    "import random\n",
    "import torch\n",
    "import torch.nn as nn\n",
    "import torch.nn.functional as F\n",
    "import torch.optim as optim\n",
    "from matplotlib import pyplot as plt\n",
    "\n",
    "#H yperparameters\n",
    "learning_rate = 0.01\n",
    "epsilon = 0.1\n",
    "\n",
    "import os\n",
    "os.environ[\"KMP_DUPLICATE_LIB_OK\"]=\"TRUE\" # 라이브러리들끼리 충돌을 일으켜서 matplotlib plot할 때 커널이 죽는 것을 방지"
   ]
  },
  {
   "cell_type": "code",
   "execution_count": 129,
   "id": "virtual-court",
   "metadata": {},
   "outputs": [],
   "source": [
    "q_table = np.zeros((19, 50, 5)) # initialize q-value table"
   ]
  },
  {
   "cell_type": "code",
   "execution_count": 130,
   "id": "loved-secretariat",
   "metadata": {},
   "outputs": [],
   "source": [
    "def is_state(x, y):\n",
    "    if y == 0 and (9 <= x <= 18):\n",
    "        return True\n",
    "    elif x == 9 and (0 <= y <= 49):\n",
    "        return True\n",
    "    elif y == 49 and (0 <= x <= 9):\n",
    "        return True\n",
    "    else:\n",
    "        return False"
   ]
  },
  {
   "cell_type": "code",
   "execution_count": 131,
   "id": "earlier-stewart",
   "metadata": {},
   "outputs": [],
   "source": [
    "def is_terminal(x, y):\n",
    "    if x == 18 and y == 0:\n",
    "        return True\n",
    "    elif x == 0 and y == 49:\n",
    "        return True\n",
    "    else:\n",
    "        return False"
   ]
  },
  {
   "cell_type": "code",
   "execution_count": 132,
   "id": "steady-revelation",
   "metadata": {},
   "outputs": [],
   "source": [
    "# 0 : 오른쪽, 1 : 왼쪽, 2 : 아래, 3 : 위, 4 : no-op\n",
    "dx = [0, 0, 1, -1, 0]\n",
    "dy = [1, -1, 0, 0, 0]"
   ]
  },
  {
   "cell_type": "code",
   "execution_count": 133,
   "id": "historical-former",
   "metadata": {},
   "outputs": [],
   "source": [
    "for repeat in range(0, 10000):\n",
    "    for x in range(0, 19):\n",
    "        for y in range(0, 50):\n",
    "            if is_terminal(x, y) == True:\n",
    "                continue\n",
    "            if is_state(x, y) == True:\n",
    "                # 오른쪽, 왼쪽, 아래, 위, no-op\n",
    "                for a in [0, 1, 2, 3, 4]:\n",
    "                    reward = -1\n",
    "                    if x == 18 and y == 0 and a == 2:\n",
    "                        reward = 10\n",
    "                    elif x == 1 and y == 49 and a == 3:\n",
    "                        reward = 100\n",
    "\n",
    "                    nxt_state_value = 0\n",
    "                    nxt_x = x + dx[a]\n",
    "                    nxt_y = y + dy[a]\n",
    "                    if is_state(nxt_x, nxt_y) == False:\n",
    "                        nxt_x, nxt_y = x, y\n",
    "                    \n",
    "                    greedy_action = np.argmax(q_table[nxt_x, nxt_y, :])\n",
    "            \n",
    "                    for a_ in [0, 1, 2, 3, 4]:\n",
    "                        probability = 1 - epsilon + (epsilon/5) if a_ == greedy_action else epsilon/5\n",
    "                        nxt_state_value += (probability*q_table[nxt_x, nxt_y, a_])\n",
    "\n",
    "                    q_table[x, y, a] = reward + nxt_state_value\n",
    "         "
   ]
  },
  {
   "cell_type": "markdown",
   "id": "small-regular",
   "metadata": {},
   "source": [
    "## 2. Policy Evaluation by DQN"
   ]
  },
  {
   "cell_type": "code",
   "execution_count": 134,
   "id": "everyday-cardiff",
   "metadata": {},
   "outputs": [],
   "source": [
    "class Qnet(nn.Module):\n",
    "    def __init__(self):\n",
    "        super(Qnet, self).__init__()\n",
    "        self.fc1 = nn.Linear(2, 50)\n",
    "        self.fc2 = nn.Linear(50, 50)\n",
    "        self.fc3 = nn.Linear(50, 5)\n",
    "\n",
    "    def forward(self, x):\n",
    "        x = F.relu(self.fc1(x))\n",
    "        x = F.relu(self.fc2(x))\n",
    "        x = self.fc3(x)\n",
    "        return x\n",
    "      \n",
    "    def sample_action(self, state):\n",
    "        out = self.forward(state)\n",
    "        coin = random.random()\n",
    "        if coin < epsilon:\n",
    "            return random.randint(0,4)\n",
    "        else: \n",
    "            state = list(state.cpu().detach())\n",
    "            x, y = int(state[0]), int(state[1])\n",
    "            return np.argmax(q_table[x, y, :])\n"
   ]
  },
  {
   "cell_type": "code",
   "execution_count": 135,
   "id": "trained-eclipse",
   "metadata": {},
   "outputs": [],
   "source": [
    "class Corridor():\n",
    "    def __init__(self):\n",
    "        self.x=17\n",
    "        self.y=0\n",
    "    \n",
    "    def step(self, a):\n",
    "        if a==0:\n",
    "            self.move_right()\n",
    "        elif a==1:\n",
    "            self.move_left()\n",
    "        elif a==2:\n",
    "            self.move_down()\n",
    "        elif a==3:\n",
    "            self.move_up()\n",
    "        elif a==4:\n",
    "            self.no_op()\n",
    "\n",
    "        reward = -1\n",
    "        if self.x == 18 and self.y == 0:\n",
    "            reward = 10\n",
    "        elif self.x == 0 and self.y == 49:\n",
    "            reward = 100\n",
    "            \n",
    "        done = self.is_done()\n",
    "        return self.x, self.y, reward, done\n",
    "    \n",
    "    def is_state(self):\n",
    "        if self.y == 0 and (9 <= self.x <= 18):\n",
    "            return True\n",
    "        elif self.x == 9 and (0 <= self.y <= 49):\n",
    "            return True\n",
    "        elif self.y == 49 and (0 <= self.x <= 9):\n",
    "            return True\n",
    "        else:\n",
    "            return False\n",
    "\n",
    "    def move_right(self):\n",
    "        self.y += 1  \n",
    "        if self.is_state() == False:\n",
    "            self.y -= 1\n",
    "      \n",
    "    def move_left(self):\n",
    "        self.y -= 1\n",
    "        if self.is_state() == False:\n",
    "            self.y += 1\n",
    "      \n",
    "    def move_up(self):\n",
    "        self.x -= 1\n",
    "        if self.is_state() == False:\n",
    "            self.x += 1\n",
    "  \n",
    "    def move_down(self):\n",
    "        self.x += 1\n",
    "        if self.is_state() == False:\n",
    "            self.x -= 1\n",
    "            \n",
    "    def no_op(self):\n",
    "        pass\n",
    "\n",
    "    def is_done(self):\n",
    "        if self.x == 18 and self.y == 0:\n",
    "            return True\n",
    "        elif self.x == 0 and self.y == 49:\n",
    "            return True\n",
    "        else:\n",
    "            return False\n",
    "\n",
    "    def get_state(self):\n",
    "        return (self.x, self.y)\n",
    "      \n",
    "    def reset(self):\n",
    "        self.x = 17\n",
    "        self.y = 0\n",
    "        return (self.x, self.y)"
   ]
  },
  {
   "cell_type": "code",
   "execution_count": 136,
   "id": "modern-canal",
   "metadata": {},
   "outputs": [],
   "source": [
    "Q = Qnet()"
   ]
  },
  {
   "cell_type": "code",
   "execution_count": 161,
   "id": "refined-winter",
   "metadata": {},
   "outputs": [
    {
     "data": {
      "image/png": "[encoded data removed]",
      "text/plain": [
       "<Figure size 432x288 with 1 Axes>"
      ]
     },
     "metadata": {
      "needs_background": "light"
     },
     "output_type": "display_data"
    }
   ],
   "source": [
    "y_val = []\n",
    "def main():\n",
    "    global Q\n",
    "    global y_val\n",
    "    global epsilon\n",
    "    env = Corridor()\n",
    "    q = Qnet()\n",
    "    score = 0.0  \n",
    "    optimizer = optim.Adam(q.parameters(), lr=learning_rate)\n",
    "    \n",
    "    \n",
    "    for n_epi in range(5000):\n",
    "        x, y = env.reset()\n",
    "        done = False\n",
    "        reward = 0\n",
    "        \n",
    "        while not done:\n",
    "            state = torch.tensor([x, y], dtype=torch.float)\n",
    "            a = q.sample_action(state)\n",
    "            nxt_x, nxt_y, r, done = env.step(a)\n",
    "            nxt_state = torch.tensor([nxt_x, nxt_y], dtype=torch.float)\n",
    "            done_mask = 0.0 if done else 1.0\n",
    "            \n",
    "            q_out = q(state)\n",
    "            q_a = q_out.gather(0, torch.tensor(a))\n",
    "            \n",
    "            q_prime_out = q(nxt_state)\n",
    "            next_greedy_action = np.argmax(q_table[nxt_x, nxt_y, :])\n",
    "            \n",
    "            mean_q_prime = 0\n",
    "            for a_ in [0, 1, 2, 3, 4]:\n",
    "                probability = 1 - epsilon + (epsilon/5) if a_ == next_greedy_action else epsilon/5\n",
    "                mean_q_prime += (probability*q_prime_out.gather(0, torch.tensor(a_)))\n",
    "            \n",
    "            target = r + mean_q_prime*done_mask\n",
    "            \n",
    "            loss = F.mse_loss(q_a, target)\n",
    "            optimizer.zero_grad()\n",
    "            loss.backward()\n",
    "            optimizer.step()\n",
    "            \n",
    "            x, y = nxt_x, nxt_y\n",
    "\n",
    "            score += r\n",
    "            reward += r\n",
    "            if done:\n",
    "                break\n",
    "                \n",
    "        if n_epi >= 900:\n",
    "            se = 0\n",
    "            for row in range(0, 19):\n",
    "                for col in range(0, 50):\n",
    "                    if is_state(row, col) == True and is_terminal(row, col) == False:\n",
    "                        state = torch.tensor([row, col], dtype=torch.float)\n",
    "                        se += np.sum((q(state).cpu().detach().numpy() - q_table[row, col, :])**2)\n",
    "            y_val += [se]\n",
    "    \n",
    "    plt.xscale('log')\n",
    "    plt.yscale('log')\n",
    "    plt.plot(range(900, len(y_val)), y_val, linewidth=1.5)\n",
    "    Q = q\n",
    "    \n",
    "    \n",
    "\n",
    "if __name__ == '__main__':\n",
    "    main()"
   ]
  },
  {
   "cell_type": "code",
   "execution_count": 162,
   "id": "alien-jacksonville",
   "metadata": {},
   "outputs": [
    {
     "data": {
      "text/plain": [
       "array([28.88861607, 28.88861607, 27.76522789, 29.99999407, 28.88861607])"
      ]
     },
     "execution_count": 162,
     "metadata": {},
     "output_type": "execute_result"
    }
   ],
   "source": [
    "q_table[15, 0, :]"
   ]
  },
  {
   "cell_type": "code",
   "execution_count": 163,
   "id": "secondary-wichita",
   "metadata": {},
   "outputs": [
    {
     "data": {
      "text/plain": [
       "tensor([35.5890, 33.3169, 32.3779, 34.9728, 32.6117], grad_fn=<AddBackward0>)"
      ]
     },
     "execution_count": 163,
     "metadata": {},
     "output_type": "execute_result"
    }
   ],
   "source": [
    "Q(torch.tensor([15, 0], dtype=torch.float))"
   ]
  },
  {
   "cell_type": "code",
   "execution_count": null,
   "id": "ancient-board",
   "metadata": {},
   "outputs": [],
   "source": []
  },
  {
   "cell_type": "code",
   "execution_count": null,
   "id": "another-spare",
   "metadata": {},
   "outputs": [],
   "source": []
  }
 ],
 "metadata": {
  "kernelspec": {
   "display_name": "Python 3",
   "language": "python",
   "name": "python3"
  },
  "language_info": {
   "codemirror_mode": {
    "name": "ipython",
    "version": 3
   },
   "file_extension": ".py",
   "mimetype": "text/x-python",
   "name": "python",
   "nbconvert_exporter": "python",
   "pygments_lexer": "ipython3",
   "version": "3.7.10"
  }
 },
 "nbformat": 4,
 "nbformat_minor": 5
}
